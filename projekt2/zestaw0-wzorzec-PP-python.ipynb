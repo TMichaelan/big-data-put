{
 "cells": [
  {
   "cell_type": "markdown",
   "id": "861b6d4a-0de6-42ba-97a5-beef1f82f292",
   "metadata": {},
   "source": [
    "# Projekt Apache Spark"
   ]
  },
  {
   "cell_type": "markdown",
   "id": "7b301ae8-ceff-4dbf-8d04-75bb4eb52480",
   "metadata": {},
   "source": [
    "# Wprowadzenie\n",
    "\n",
    "Wykorzystując ten notatnik jako szablon zrealizuj projekt Apache Spark zgodnie z przydzielonym zestawem. \n",
    "\n",
    "Kilka uwag:\n",
    "\n",
    "* Nie modyfikuj ani nie usuwaj paragrafów *markdown* w tym notatniku, chyba że wynika to jednoznacznie z instrukcji. \n",
    "* Istniejące paragrafy zawierające *kod* uzupełnij w razie potrzeby zgodnie z instrukcjami\n",
    "    - nie usuwaj ich\n",
    "    - nie usuwaj zawartych w nich instrukcji oraz kodu\n",
    "    - nie modyfikuj ich, jeśli instrukcje jawnie tego nie nakazują\n",
    "* Możesz dodawać nowe paragrafy zarówno zawierające kod jak i komentarze dotyczące tego kodu (markdown)"
   ]
  },
  {
   "cell_type": "markdown",
   "id": "e69d12f1-1013-4c74-b6aa-686ccfcbdd5c",
   "metadata": {},
   "source": [
    "# Treść projektu\n",
    "\n",
    "Poniżej w paragrafie markdown wstaw tytuł przydzielonego zestawu"
   ]
  },
  {
   "cell_type": "markdown",
   "id": "adfc4ff6-4d43-49ed-a0d1-8b6988eaec16",
   "metadata": {},
   "source": [
    "# Zestaw 0 – wzorzec\n",
    "\n",
    "**Uwaga**\n",
    "\n",
    "- W ramach wzorca nie są spełnione żadne reguły projektu. \n",
    "- Brak konsekwencji w wykorzystaniu właściwego API w ramach poszczególnych części\n",
    "- Zadanie *misji głównej* polega na zliczeniu słówek.  "
   ]
  },
  {
   "cell_type": "markdown",
   "id": "5e128e43-6cce-4ffa-9609-9fae4b164ae9",
   "metadata": {},
   "source": [
    "# Działania wstępne \n",
    "\n",
    "Uruchom poniższy paragraf, aby utworzyć obiekty kontekstu Sparka. Jeśli jest taka potrzeba dostosuj te polecenia. Pamiętaj o potrzebnych bibliotekach."
   ]
  },
  {
   "cell_type": "code",
   "execution_count": 1,
   "id": "26fb1050-386f-4398-ba5a-b45f5065d87b",
   "metadata": {},
   "outputs": [],
   "source": [
    "from pyspark.sql import SparkSession\n",
    "\n",
    "# Spark session & context\n",
    "spark = SparkSession.builder.getOrCreate()\n",
    "\n",
    "sc = spark.sparkContext"
   ]
  },
  {
   "cell_type": "markdown",
   "id": "8695a354-52bc-4bba-8222-7121bf07ae90",
   "metadata": {},
   "source": [
    "W poniższym paragrafie uzupełnij polecenia definiujące poszczególne zmienne. \n",
    "\n",
    "Pamiętaj abyś:\n",
    "\n",
    "* w późniejszym kodzie, dla wszystkich cześci projektu, korzystał z tych zdefiniowanych zmiennych. Wykorzystuj je analogicznie jak parametry\n",
    "* przed ostateczną rejestracją projektu usunął ich wartości, tak aby nie pozostawiać w notatniku niczego co mogłoby identyfikować Ciebie jako jego autora"
   ]
  },
  {
   "cell_type": "code",
   "execution_count": 2,
   "id": "e883af01-7117-4faa-a840-7ff807a195d9",
   "metadata": {},
   "outputs": [],
   "source": [
    "# pełna ścieżka do katalogu w zasobniku zawierającego podkatalogi `datasource1` i `datasource4` \n",
    "# z danymi źródłowymi\n",
    "input_dir = \"/home/jovyan/data/zestaw10\""
   ]
  },
  {
   "cell_type": "markdown",
   "id": "4601cc7a-3ed5-47e2-994f-ebec642049b5",
   "metadata": {},
   "source": [
    "Nie modyfikuj poniższych paragrafów. Wykonaj je i używaj zdefniowanych poniżej zmiennych jak parametrów Twojego programu."
   ]
  },
  {
   "cell_type": "code",
   "execution_count": 3,
   "id": "6167e297-01ed-463e-bb81-9104d7cf7093",
   "metadata": {},
   "outputs": [],
   "source": [
    "# NIE ZMIENIAĆ\n",
    "# ścieżki dla danych źródłowych \n",
    "datasource1_dir = input_dir + \"/datasource1\"\n",
    "datasource4_dir = input_dir + \"/datasource4\"\n",
    "\n",
    "# nazwy i ścieżki dla wyników dla misji głównej \n",
    "# część 1 (Spark Core - RDD) \n",
    "rdd_result_dir = \"/tmp/output1\"\n",
    "\n",
    "# część 2 (Spark SQL - DataFrame)\n",
    "df_result_table = \"output2\"\n",
    "\n",
    "# część 3 (Pandas API on Spark)\n",
    "ps_result_file = \"/tmp/output3.json\""
   ]
  },
  {
   "cell_type": "code",
   "execution_count": 4,
   "id": "e36e0314-a4ac-4096-9e4b-23fd4a73e0a9",
   "metadata": {},
   "outputs": [],
   "source": [
    "# NIE ZMIENIAĆ\n",
    "import os\n",
    "def remove_file(file):\n",
    "    if os.path.exists(file):\n",
    "        os.remove(file)\n",
    "\n",
    "remove_file(\"metric_functions.py\")\n",
    "remove_file(\"tools_functions.py\")"
   ]
  },
  {
   "cell_type": "code",
   "execution_count": 5,
   "id": "1b4b8e00-10ae-47dc-b623-d1dacbe9c86b",
   "metadata": {},
   "outputs": [
    {
     "data": {
      "text/plain": [
       "3322"
      ]
     },
     "execution_count": 5,
     "metadata": {},
     "output_type": "execute_result"
    }
   ],
   "source": [
    "# NIE ZMIENIAĆ\n",
    "import requests\n",
    "r = requests.get(\"https://jankiewicz.pl/bigdata/metric_functions.py\", allow_redirects=True)\n",
    "open('metric_functions.py', 'wb').write(r.content)\n",
    "r = requests.get(\"https://jankiewicz.pl/bigdata/tools_functions.py\", allow_redirects=True)\n",
    "open('tools_functions.py', 'wb').write(r.content)"
   ]
  },
  {
   "cell_type": "code",
   "execution_count": 6,
   "id": "0a433894-dc97-46f2-be51-9f40fa36894f",
   "metadata": {},
   "outputs": [],
   "source": [
    "# NIE ZMIENIAĆ\n",
    "%run metric_functions.py\n",
    "%run tools_functions.py"
   ]
  },
  {
   "cell_type": "markdown",
   "id": "c9d3a9dc-ac3b-4316-abb9-365caa1d7185",
   "metadata": {},
   "source": [
    "Poniższe paragrafy mają na celu usunąć ewentualne pozostałości poprzednich uruchomień tego lub innych notatników"
   ]
  },
  {
   "cell_type": "code",
   "execution_count": 7,
   "id": "08091c72-937f-41c2-9afe-d1505862bf1c",
   "metadata": {},
   "outputs": [
    {
     "name": "stdout",
     "output_type": "stream",
     "text": [
      "Successfully deleted directory: /tmp/output1\n"
     ]
    }
   ],
   "source": [
    "# NIE ZMIENIAĆ\n",
    "# usunięcie miejsca docelowego dla część 1 (Spark Core - RDD) \n",
    "delete_dir(spark, rdd_result_dir)"
   ]
  },
  {
   "cell_type": "code",
   "execution_count": 8,
   "id": "f3e863c0-c824-47bd-b53a-ce3b1fd6d453",
   "metadata": {},
   "outputs": [
    {
     "name": "stdout",
     "output_type": "stream",
     "text": [
      "The table output2 does not exist.\n",
      "Successfully deleted directory: file:/home/jovyan/work/project2/spark-warehouse/output2\n"
     ]
    }
   ],
   "source": [
    "# NIE ZMIENIAĆ\n",
    "# usunięcie miejsca docelowego dla część 2 (Spark SQL - DataFrame) \n",
    "drop_table(spark, df_result_table)"
   ]
  },
  {
   "cell_type": "code",
   "execution_count": 9,
   "id": "72956a1a-da48-4d2b-a07a-e03d56431d6e",
   "metadata": {},
   "outputs": [],
   "source": [
    "# NIE ZMIENIAĆ\n",
    "# usunięcie miejsca docelowego dla część 3 (Pandas API on Spark) \n",
    "remove_file(ps_result_file)"
   ]
  },
  {
   "cell_type": "code",
   "execution_count": 10,
   "id": "b9e423d4-92b8-4161-98da-1a867f86d780",
   "metadata": {},
   "outputs": [
    {
     "data": {
      "text/html": [
       "\n",
       "            <div>\n",
       "                <p><b>SparkSession - in-memory</b></p>\n",
       "                \n",
       "        <div>\n",
       "            <p><b>SparkContext</b></p>\n",
       "\n",
       "            <p><a href=\"http://e50186c7c7b3:4041\">Spark UI</a></p>\n",
       "\n",
       "            <dl>\n",
       "              <dt>Version</dt>\n",
       "                <dd><code>v3.5.0</code></dd>\n",
       "              <dt>Master</dt>\n",
       "                <dd><code>local[*]</code></dd>\n",
       "              <dt>AppName</dt>\n",
       "                <dd><code>pyspark-shell</code></dd>\n",
       "            </dl>\n",
       "        </div>\n",
       "        \n",
       "            </div>\n",
       "        "
      ],
      "text/plain": [
       "<pyspark.sql.session.SparkSession at 0x7efca8290550>"
      ]
     },
     "execution_count": 10,
     "metadata": {},
     "output_type": "execute_result"
    }
   ],
   "source": [
    "# NIE ZMIENIAĆ\n",
    "spark"
   ]
  },
  {
   "cell_type": "markdown",
   "id": "14faf05b-6c52-4b02-b2e5-2ddb3f38c704",
   "metadata": {},
   "source": [
    "***Uwaga!***\n",
    "\n",
    "Uruchom poniższy paragraf i sprawdź czy adres, pod którym dostępny *Apache Spark Application UI* jest poprawny wywołując następny testowy paragraf. \n",
    "\n",
    "W razie potrzeby określ samodzielnie poprawny adres, pod którym dostępny *Apache Spark Application UI*"
   ]
  },
  {
   "cell_type": "code",
   "execution_count": 11,
   "id": "32acf3d2-ec4e-469d-bb0b-5f260c2c8e3b",
   "metadata": {},
   "outputs": [
    {
     "data": {
      "text/plain": [
       "'http://localhost:4041'"
      ]
     },
     "execution_count": 11,
     "metadata": {},
     "output_type": "execute_result"
    }
   ],
   "source": [
    "# adres URL, pod którym dostępny Apache Spark Application UI (REST API)\n",
    "# \n",
    "spark_ui_address = extract_host_and_port(spark, \"http://localhost:4041\")\n",
    "spark_ui_address"
   ]
  },
  {
   "cell_type": "code",
   "execution_count": 12,
   "id": "32c2329e-1d7a-465f-a23b-333f95bf7deb",
   "metadata": {},
   "outputs": [
    {
     "data": {
      "text/plain": [
       "{'numTasks': 0,\n",
       " 'numActiveTasks': 0,\n",
       " 'numCompleteTasks': 0,\n",
       " 'numFailedTasks': 0,\n",
       " 'numKilledTasks': 0,\n",
       " 'numCompletedIndices': 0,\n",
       " 'executorDeserializeTime': 0,\n",
       " 'executorDeserializeCpuTime': 0,\n",
       " 'executorRunTime': 0,\n",
       " 'executorCpuTime': 0,\n",
       " 'resultSize': 0,\n",
       " 'jvmGcTime': 0,\n",
       " 'resultSerializationTime': 0,\n",
       " 'memoryBytesSpilled': 0,\n",
       " 'diskBytesSpilled': 0,\n",
       " 'peakExecutionMemory': 0,\n",
       " 'inputBytes': 0,\n",
       " 'inputRecords': 0,\n",
       " 'outputBytes': 0,\n",
       " 'outputRecords': 0,\n",
       " 'shuffleRemoteBlocksFetched': 0,\n",
       " 'shuffleLocalBlocksFetched': 0,\n",
       " 'shuffleFetchWaitTime': 0,\n",
       " 'shuffleRemoteBytesRead': 0,\n",
       " 'shuffleRemoteBytesReadToDisk': 0,\n",
       " 'shuffleLocalBytesRead': 0,\n",
       " 'shuffleReadBytes': 0,\n",
       " 'shuffleReadRecords': 0,\n",
       " 'shuffleWriteBytes': 0,\n",
       " 'shuffleWriteTime': 0,\n",
       " 'shuffleWriteRecords': 0}"
      ]
     },
     "execution_count": 12,
     "metadata": {},
     "output_type": "execute_result"
    }
   ],
   "source": [
    "# testowy paragraf\n",
    "test_metrics = get_current_metrics(spark_ui_address)\n",
    "test_metrics"
   ]
  },
  {
   "cell_type": "markdown",
   "id": "f5ccca69-c577-440c-aa5c-c9df3a54e127",
   "metadata": {},
   "source": [
    "# Część 1 - Spark Core (RDD)\n",
    "\n",
    "## Misje poboczne\n",
    "\n",
    "W ponizszych paragrafach wprowadź swoje rozwiązania *misji pobocznych*, o ile **nie** chcesz, aby oceniana była *misja główna*. W przeciwnym przypadku **KONIECZNIE** pozostaw je **puste**.  "
   ]
  },
  {
   "cell_type": "code",
   "execution_count": null,
   "id": "f0af3440-983a-4cac-a8e7-4908b010947c",
   "metadata": {},
   "outputs": [],
   "source": []
  },
  {
   "cell_type": "code",
   "execution_count": null,
   "id": "5fc37879-e0fa-4c4a-bd0d-4c01c3ecf38a",
   "metadata": {},
   "outputs": [],
   "source": []
  },
  {
   "cell_type": "markdown",
   "id": "d303a72b-4083-470e-b25d-3224360ee94f",
   "metadata": {},
   "source": [
    "## Misja główna \n",
    "\n",
    "Poniższy paragraf zapisuje metryki przed uruchomieniem Twojego rozwiązania *misji głównej*. \n",
    "\n",
    "Nie musisz go uruchamiać podczas implementacji rozwiązania."
   ]
  },
  {
   "cell_type": "code",
   "execution_count": 13,
   "id": "037689d7-f0ee-4165-bef0-83fa7f3e8346",
   "metadata": {},
   "outputs": [],
   "source": [
    "# NIE ZMIENIAĆ\n",
    "before_rdd_metrics = get_current_metrics(spark_ui_address)"
   ]
  },
  {
   "cell_type": "markdown",
   "id": "b23971c0-cec7-4ea8-befb-7f063dce863c",
   "metadata": {},
   "source": [
    "W poniższych paragrafach wprowadź **rozwiązanie** *misji głównej* oparte na *RDD API*. \n",
    "\n",
    "Pamiętaj o wydajności Twojego przetwarzania, *RDD API* tego wymaga. \n",
    "\n",
    "Nie wprowadzaj w poniższych paragrafach żadnego kodu, w przypadku wykorzystania *misji pobocznych*."
   ]
  },
  {
   "cell_type": "code",
   "execution_count": 14,
   "id": "8af00c41-02a9-4a85-b3c6-bc41098edbe2",
   "metadata": {},
   "outputs": [],
   "source": [
    "# Wczytanie plików tekstowych\n",
    "text_files = sc.textFile(datasource4_dir)"
   ]
  },
  {
   "cell_type": "code",
   "execution_count": 15,
   "id": "d7955a5f-386d-47a5-9f6a-3d93a906c526",
   "metadata": {},
   "outputs": [],
   "source": [
    "# Podział linii na słowa i zliczanie ilości wystąpień każdego słowa\n",
    "word_counts = text_files.flatMap(lambda line: line.split(\" \")) \\\n",
    "                        .map(lambda word: (word, 1)) \\\n",
    "                        .reduceByKey(lambda x, y: x + y)"
   ]
  },
  {
   "cell_type": "code",
   "execution_count": 16,
   "id": "91d77fd7-1f15-4365-ae80-c902aeb55ce7",
   "metadata": {},
   "outputs": [],
   "source": [
    "# Zapis wyniku do pliku pickle\n",
    "word_counts.saveAsPickleFile(rdd_result_dir)"
   ]
  },
  {
   "cell_type": "markdown",
   "id": "42d8b5ec-b799-4177-8e4a-80a583d995e7",
   "metadata": {},
   "source": [
    "Poniższy paragraf zapisuje metryki po uruchomieniu Twojego rozwiązania *misji głównej*. \n",
    "\n",
    "Nie musisz go uruchamiać podczas implementacji rozwiązania."
   ]
  },
  {
   "cell_type": "code",
   "execution_count": 17,
   "id": "4325d378-b145-4e8f-8d37-80a072b506c3",
   "metadata": {},
   "outputs": [],
   "source": [
    "# NIE ZMIENIAĆ\n",
    "after_rdd_metrics = get_current_metrics(spark_ui_address)"
   ]
  },
  {
   "cell_type": "markdown",
   "id": "28137d3d-6f0d-443f-97b8-38104aaced6d",
   "metadata": {},
   "source": [
    "# Część 2 - Spark SQL (DataFrame)\n",
    "\n",
    "## Misje poboczne\n",
    "\n",
    "W ponizszych paragrafach wprowadź swoje rozwiązania *misji pobocznych*, o ile **nie** chcesz, aby oceniana była *misja główna*. W przeciwnym przypadku **KONIECZNIE** pozostaw je **puste**.  "
   ]
  },
  {
   "cell_type": "code",
   "execution_count": null,
   "id": "6d045dae-5826-4015-8833-564d356db1f8",
   "metadata": {},
   "outputs": [],
   "source": []
  },
  {
   "cell_type": "code",
   "execution_count": null,
   "id": "f7738406-c426-4238-b0fb-983f4585bc5a",
   "metadata": {},
   "outputs": [],
   "source": []
  },
  {
   "cell_type": "markdown",
   "id": "5e7e569f-5f6b-4a98-b177-1b6fb0fc3333",
   "metadata": {},
   "source": [
    "## Misja główna \n",
    "\n",
    "Poniższy paragraf zapisuje metryki przed uruchomieniem Twojego rozwiązania *misji głównej*. \n",
    "\n",
    "Nie musisz go uruchamiać podczas implementacji rozwiązania."
   ]
  },
  {
   "cell_type": "code",
   "execution_count": 18,
   "id": "6329c04b-3e50-41a8-93f1-333ac0ea64ce",
   "metadata": {},
   "outputs": [],
   "source": [
    "# NIE ZMIENIAĆ\n",
    "before_df_metrics = get_current_metrics(spark_ui_address)"
   ]
  },
  {
   "cell_type": "markdown",
   "id": "4c2cfb0d-51b6-45bb-b173-ab8ac630d4f3",
   "metadata": {},
   "source": [
    "W poniższych paragrafach wprowadź **rozwiązanie** *misji głównej* swojego projektu oparte o *DataFrame API*. \n",
    "\n",
    "Pamiętaj o wydajności Twojego przetwarzania, *DataFrame API* nie jest w stanie wszystkiego \"naprawić\". \n",
    "\n",
    "Nie wprowadzaj w poniższych paragrafach żadnego kodu, w przypadku wykorzystania *misji pobocznych*."
   ]
  },
  {
   "cell_type": "code",
   "execution_count": 19,
   "id": "eca6e627-0ce5-4c48-b441-3bcc14e32f36",
   "metadata": {},
   "outputs": [],
   "source": [
    "from pyspark.sql.functions import split, explode, count\n",
    "# Wczytanie danych\n",
    "data = spark.read.text(datasource4_dir)"
   ]
  },
  {
   "cell_type": "code",
   "execution_count": 20,
   "id": "bcc4aaa9-8dc2-4726-871e-5e2450ba3fa8",
   "metadata": {},
   "outputs": [],
   "source": [
    "# Dzielenie linii na słowa i eksplozja do osobnych wierszy\n",
    "words = data.select(explode(split(data.value, \" \")).alias(\"word\"))\n",
    "\n",
    "# Zliczanie słów\n",
    "word_counts = words.groupBy(\"word\").agg(count(\"word\").alias(\"count\"))"
   ]
  },
  {
   "cell_type": "code",
   "execution_count": 21,
   "id": "45165cca-5197-4590-ba69-7541085147f9",
   "metadata": {},
   "outputs": [],
   "source": [
    "# Zapis wyników do tabeli \n",
    "word_counts.write.mode(\"overwrite\").saveAsTable(df_result_table)"
   ]
  },
  {
   "cell_type": "markdown",
   "id": "d0797752-450e-4f8f-a1d4-93a890a62c3d",
   "metadata": {},
   "source": [
    "Poniższy paragraf zapisuje metryki po uruchomieniu Twojego rozwiązania *misji głównej*. \n",
    "\n",
    "Nie musisz go uruchamiać podczas implementacji rozwiązania."
   ]
  },
  {
   "cell_type": "code",
   "execution_count": 22,
   "id": "c3647eae-2801-46ac-b43d-74e5bbfcab52",
   "metadata": {},
   "outputs": [],
   "source": [
    "# NIE ZMIENIAĆ\n",
    "after_df_metrics = get_current_metrics(spark_ui_address)"
   ]
  },
  {
   "cell_type": "markdown",
   "id": "3bed01aa-cc23-427e-84c8-e5b76b9323bb",
   "metadata": {},
   "source": [
    "# Część 3 - Pandas API on Spark\n",
    "\n",
    "Ta część to wyzwanie. W szczególności dla osób, które nie programują na co dzień w Pythonie, lub które nie nie korzystały do tej pory z Pandas API.  \n",
    "\n",
    "Powodzenia!\n",
    "\n",
    "## Misje poboczne\n",
    "\n",
    "W ponizszych paragrafach wprowadź swoje rozwiązania *misji pobocznych*, o ile **nie** chcesz, aby oceniana była *misja główna*. W przeciwnym przypadku **KONIECZNIE** pozostaw je **puste**.  "
   ]
  },
  {
   "cell_type": "code",
   "execution_count": null,
   "id": "971a265f-db04-4a26-936d-18ab875ddffa",
   "metadata": {},
   "outputs": [],
   "source": []
  },
  {
   "cell_type": "code",
   "execution_count": null,
   "id": "91621654-a24e-4ddb-b2c7-9f149252af13",
   "metadata": {},
   "outputs": [],
   "source": []
  },
  {
   "cell_type": "markdown",
   "id": "9a5184ce-cf42-4342-aeec-b56c30b66bbd",
   "metadata": {},
   "source": [
    "## Misja główna \n",
    "\n",
    "Poniższy paragraf zapisuje metryki przed uruchomieniem Twojego rozwiązania *misji głównej*. \n",
    "\n",
    "Nie musisz go uruchamiać podczas implementacji rozwiązania."
   ]
  },
  {
   "cell_type": "code",
   "execution_count": 23,
   "id": "63fd8306-87e9-46f2-b622-d60693e3ba6d",
   "metadata": {},
   "outputs": [],
   "source": [
    "#NIE ZMIENIAĆ\n",
    "before_ps_metrics = get_current_metrics(spark_ui_address)"
   ]
  },
  {
   "cell_type": "markdown",
   "id": "a967f079-7106-4bd7-9d26-98ced2aeb43b",
   "metadata": {},
   "source": [
    "W poniższych paragrafach wprowadź **rozwiązanie** swojego projektu oparte o *Pandas API on Spark*. \n",
    "\n",
    "Pamiętaj o wydajności Twojego przetwarzania, *Pandas API on Spark* nie jest w stanie wszystkiego \"naprawić\". \n",
    "\n",
    "Nie wprowadzaj w poniższych paragrafach żadnego kodu, w przypadku wykorzystania *misji pobocznych*."
   ]
  },
  {
   "cell_type": "code",
   "execution_count": 24,
   "id": "e2094a69-30b1-4970-825b-2b0624436cd5",
   "metadata": {},
   "outputs": [
    {
     "name": "stderr",
     "output_type": "stream",
     "text": [
      "/usr/local/spark/python/pyspark/pandas/__init__.py:50: UserWarning: 'PYARROW_IGNORE_TIMEZONE' environment variable was not set. It is required to set this environment variable to '1' in both driver and executor sides if you use pyarrow>=2.0.0. pandas-on-Spark will set it for you but it does not work if there is a Spark context already launched.\n",
      "  warnings.warn(\n",
      "/usr/local/spark/python/pyspark/pandas/utils.py:1016: PandasAPIOnSparkAdviceWarning: If `index_col` is not specified for `read_csv`, the default index is attached which can cause additional overhead.\n",
      "  warnings.warn(message, PandasAPIOnSparkAdviceWarning)\n"
     ]
    }
   ],
   "source": [
    "import pyspark.pandas as ps\n",
    "\n",
    "lines_ps = ps.read_csv(datasource4_dir, header=None)"
   ]
  },
  {
   "cell_type": "code",
   "execution_count": 25,
   "id": "ea69e909-a557-4294-b1ae-f0d551649eec",
   "metadata": {},
   "outputs": [],
   "source": [
    "words_ps = lines_ps[0].apply(lambda x: x.split(' ') if x is not None else []).explode().reset_index(drop=True)"
   ]
  },
  {
   "cell_type": "code",
   "execution_count": 26,
   "id": "b5759f50-b92e-41a5-9eb0-9b00e2528ce5",
   "metadata": {},
   "outputs": [
    {
     "name": "stderr",
     "output_type": "stream",
     "text": [
      "/usr/local/spark/python/pyspark/pandas/base.py:1437: FutureWarning: The resulting Series will have a fixed name of 'count' from 4.0.0.\n",
      "  warnings.warn(\n"
     ]
    }
   ],
   "source": [
    "word_counts = words_ps.value_counts()"
   ]
  },
  {
   "cell_type": "code",
   "execution_count": 27,
   "id": "b02917f4-e1f2-4fb4-8b53-8829fb3f0689",
   "metadata": {},
   "outputs": [
    {
     "name": "stderr",
     "output_type": "stream",
     "text": [
      "/usr/local/spark/python/pyspark/pandas/utils.py:1016: PandasAPIOnSparkAdviceWarning: `to_pandas` loads all data into the driver's memory. It should only be used if the resulting pandas Series is expected to be small.\n",
      "  warnings.warn(message, PandasAPIOnSparkAdviceWarning)\n"
     ]
    }
   ],
   "source": [
    "word_counts_pandas = word_counts.head(50).to_pandas()"
   ]
  },
  {
   "cell_type": "code",
   "execution_count": 28,
   "id": "76e0d7f7-82f3-41d4-8267-cf288f2f6e81",
   "metadata": {},
   "outputs": [],
   "source": [
    "word_counts_pandas.to_json(ps_result_file, orient='index')"
   ]
  },
  {
   "cell_type": "markdown",
   "id": "298a0ec5-ab13-4e39-a572-e7adf8b8556a",
   "metadata": {},
   "source": [
    "Poniższy paragraf zapisuje metryki po uruchomieniu Twojego rozwiązania *misji głównej*. \n",
    "\n",
    "Nie musisz go uruchamiać podczas implementacji rozwiązania."
   ]
  },
  {
   "cell_type": "code",
   "execution_count": 30,
   "id": "108bee2a-a847-4625-8e4a-939951ac9201",
   "metadata": {},
   "outputs": [],
   "source": [
    "#NIE ZMIENIAĆ\n",
    "after_ps_metrics = get_current_metrics(spark_ui_address)"
   ]
  },
  {
   "cell_type": "markdown",
   "id": "e32e266b-b5cd-41d0-aeab-c1edc365910d",
   "metadata": {},
   "source": [
    "# Analiza wyników i wydajności *misji głównych*"
   ]
  },
  {
   "cell_type": "markdown",
   "id": "46b67111-62d0-4657-b158-1ed37db9ed96",
   "metadata": {},
   "source": [
    "## Część 1 - Spark Core (RDD)"
   ]
  },
  {
   "cell_type": "code",
   "execution_count": 31,
   "id": "5cfc9900-7e0c-49ff-adba-e339f83ffe51",
   "metadata": {},
   "outputs": [
    {
     "name": "stdout",
     "output_type": "stream",
     "text": [
      "('TeriyakiApps\\x01~\\x01teriyakiapps@gmail.com\\x018589934594', 1)\n",
      "('Koza\\x01http://www.xynapse.pl\\x01xynapse@xynapse.pl\\x018589934595', 1)\n",
      "('Tools\\x01https://vcb30cb43.app-ads-txt.com/app-ads.txt\\x01androtools222@gmail.com\\x018589934596', 1)\n",
      "('Muslim', 110)\n",
      "('FireFlies', 2)\n",
      "('Studio\\x01~\\x01manuariza95@gmail.com\\x018589934602', 1)\n",
      "('News', 494)\n",
      "('IST-Development\\x01https://istanbulit.com\\x01info@istanbulit.com\\x018589934604', 1)\n",
      "('FAStuidoTI\\x01~\\x01karimkhalfy@gmail.com\\x018589934605', 1)\n",
      "('Web4Minds,', 1)\n",
      "('V3', 8)\n",
      "('Smart', 2437)\n",
      "('Ltd\\x01http://www.v3smarttech.com\\x01support@v3smarttech.com\\x018589934607', 1)\n",
      "('Mobil', 143)\n",
      "('UNDERSCORE:', 1)\n",
      "('Apps', 6350)\n",
      "('and', 5289)\n",
      "('Games\\x01~\\x01ergamesapps@gmail.com\\x018589934609', 1)\n",
      "('tamapps\\x01~\\x01zakdermeister@gmail.com\\x018589934614', 1)\n",
      "('S.', 397)\n",
      "('Connect', 331)\n",
      "('Team\\x01https://mewe.com/join/klwpdevelopersteam\\x01designcorpviti@gmail.com\\x018589934618', 1)\n",
      "('for', 2565)\n",
      "('with', 262)\n",
      "('NETWORKS', 23)\n",
      "('PTE', 226)\n",
      "('Art\\x01https://www.bytesart.site\\x01support@bytesart.tech\\x018589934624', 1)\n",
      "('Mother', 28)\n",
      "('ShowMeTheParts\\x01http://www.ShowMeTheParts.com\\x01showmetheparts@gmail.com\\x018589934628', 1)\n",
      "('Sitevenia\\x01http://www.wmphotos.fr\\x01williammoureaux@sfr.fr\\x018589934629', 1)\n",
      "('NOVATIVE\\x01https://www.novative.com/\\x01sales@novative.com\\x018589934634', 1)\n",
      "('Chokurei', 5)\n",
      "('everyone\\x01https://www.sistemaeducativofinanciero.com/p/privacy\\x01sanz112358@gmail.com\\x018589934635', 1)\n",
      "('Orotti', 1)\n",
      "('Apps\\x01http://www.orotti.com\\x01apps@orotti.com\\x018589934636', 1)\n",
      "('Rabbitz', 2)\n",
      "('Games\\x01~\\x01madrabbitzgames@gmail.com\\x018589934637', 1)\n",
      "('ParkerSoft\\x01~\\x01ianparker2007@yahoo.co.uk\\x018589934638', 1)\n",
      "('ISHAN', 5)\n",
      "('Bismania', 2)\n",
      "('Wei', 36)\n",
      "('Jie\\x01https://github.com/myluckynumbers/In-Between\\x01limweijie250@gmail.com\\x018589934644', 1)\n",
      "('Iraqi', 3)\n",
      "('Investment', 273)\n",
      "('MV', 59)\n",
      "('S/A\\x01http://www.mv.com.br\\x01inovacaomv@gmail.com\\x018589934646', 1)\n",
      "('Welfare', 43)\n",
      "('Gosa\\x01https://www.facebook.com/themexperia\\x01support@mkninc.ru\\x018589934648', 1)\n",
      "('Frillapps\\x01https://weedleapps.co.il/\\x01ozvi.inc@gmail.com\\x018589934651', 1)\n",
      "('Beansprites', 5)\n"
     ]
    }
   ],
   "source": [
    "# Wczytanie wyników z pliku pickle\n",
    "word_counts = sc.pickleFile(rdd_result_dir)\n",
    "\n",
    "# Wyświetlenie 50 pierwszych elementów\n",
    "result_sample = word_counts.take(50)\n",
    "for item in result_sample:\n",
    "    print(item)"
   ]
  },
  {
   "cell_type": "code",
   "execution_count": 32,
   "id": "16edae69-8062-4422-842f-d50bca0af9a7",
   "metadata": {},
   "outputs": [
    {
     "data": {
      "text/plain": [
       "{'numTasks': 6,\n",
       " 'numActiveTasks': 0,\n",
       " 'numCompleteTasks': 6,\n",
       " 'numFailedTasks': 0,\n",
       " 'numKilledTasks': 0,\n",
       " 'numCompletedIndices': 6,\n",
       " 'executorDeserializeTime': 763,\n",
       " 'executorDeserializeCpuTime': 288417800,\n",
       " 'executorRunTime': 52789,\n",
       " 'executorCpuTime': 3791290300,\n",
       " 'resultSize': 12143,\n",
       " 'jvmGcTime': 1808,\n",
       " 'resultSerializationTime': 19,\n",
       " 'memoryBytesSpilled': 0,\n",
       " 'diskBytesSpilled': 0,\n",
       " 'peakExecutionMemory': 0,\n",
       " 'inputBytes': 84276905,\n",
       " 'inputRecords': 1179547,\n",
       " 'outputBytes': 90624535,\n",
       " 'outputRecords': 14566,\n",
       " 'shuffleRemoteBlocksFetched': 0,\n",
       " 'shuffleLocalBlocksFetched': 9,\n",
       " 'shuffleFetchWaitTime': 0,\n",
       " 'shuffleRemoteBytesRead': 0,\n",
       " 'shuffleRemoteBytesReadToDisk': 0,\n",
       " 'shuffleLocalBytesRead': 49730906,\n",
       " 'shuffleReadBytes': 49730906,\n",
       " 'shuffleReadRecords': 228,\n",
       " 'shuffleWriteBytes': 49730906,\n",
       " 'shuffleWriteTime': 405851800,\n",
       " 'shuffleWriteRecords': 228}"
      ]
     },
     "execution_count": 32,
     "metadata": {},
     "output_type": "execute_result"
    }
   ],
   "source": [
    "subtract_metrics(after_rdd_metrics, before_rdd_metrics)"
   ]
  },
  {
   "cell_type": "markdown",
   "id": "efc730f1-4b5e-4a68-8a86-11768918fcf4",
   "metadata": {},
   "source": [
    "## Część 2 - Spark SQL (DataFrame)"
   ]
  },
  {
   "cell_type": "code",
   "execution_count": 33,
   "id": "b950a09d-045e-4143-a3cf-8ecc7c73ac41",
   "metadata": {},
   "outputs": [
    {
     "name": "stdout",
     "output_type": "stream",
     "text": [
      "+-------------------------+-----+\n",
      "|                     word|count|\n",
      "+-------------------------+-----+\n",
      "|                      The| 9372|\n",
      "|                   Bidhee|    7|\n",
      "|                Solutions| 6041|\n",
      "|                   ArtAce|    2|\n",
      "|                  PuyTech|    1|\n",
      "|                   McLeod|  208|\n",
      "|                      RTV|   13|\n",
      "|     Software\u0001http://p...|    1|\n",
      "|紫荊雜誌社\u0001https://bau...|    1|\n",
      "|                  Bacilio|    2|\n",
      "|     Developer\u0001https:/...|    1|\n",
      "|     Software\u0001http://w...|    1|\n",
      "|                  Backend|   13|\n",
      "|하이퍼펌프\u0001~\u0001hyper.cho...|    1|\n",
      "|                    METRO|   21|\n",
      "|     ADBAND\u0001http://www...|    1|\n",
      "|                      Tcf|    1|\n",
      "|                      Pug|   12|\n",
      "|              Techologies|    4|\n",
      "|     Tourism\u0001https://t...|    1|\n",
      "|     Kinsale\u0001~\u0001gourmet...|    1|\n",
      "|     English\u0001https://w...|    1|\n",
      "|                    Darul|   10|\n",
      "|                       📱|    3|\n",
      "|                  Panipat|    2|\n",
      "|     Konyukhov\u0001http://...|    1|\n",
      "|                     Bold|   38|\n",
      "|     Developer\u0001http://...|    1|\n",
      "|     Advertising\u0001http:...|    1|\n",
      "|                 CÁNTABRO|    2|\n",
      "|     Consultores\u0001http:...|    1|\n",
      "|                     Amit|  106|\n",
      "|     CONTACTS\u0001http://w...|    1|\n",
      "|                    Jimmy|   78|\n",
      "|     applications\u0001~\u0001ph...|    1|\n",
      "|     Rechts\u0001https://ww...|    1|\n",
      "|     KetchapPro\u0001~\u0001ketc...|    1|\n",
      "|                     GIDA|    9|\n",
      "|     dev\u0001~\u0001radsdev@mai...|    1|\n",
      "|     Dipre\u0001~\u0001diomaris0...|    1|\n",
      "|                   Games:|   41|\n",
      "|                Beautiful|   62|\n",
      "|                      Jio|   22|\n",
      "|                   Phenix|   13|\n",
      "|     Apps\u0001https://seqa...|    1|\n",
      "|                    Qulam|    2|\n",
      "|     Games\u0001http://tinm...|    1|\n",
      "|     RedPACT\u0001~\u0001nancyak...|    1|\n",
      "|                     Coin|   79|\n",
      "|                 Smartify|    5|\n",
      "+-------------------------+-----+\n",
      "only showing top 50 rows\n",
      "\n"
     ]
    }
   ],
   "source": [
    "df = spark.table(df_result_table)\n",
    "\n",
    "# Wyświetlenie 50 pierwszych rekordów\n",
    "df.show(50)"
   ]
  },
  {
   "cell_type": "code",
   "execution_count": 34,
   "id": "3f344ed9-94c1-4d79-b839-1839548d8c67",
   "metadata": {},
   "outputs": [
    {
     "data": {
      "text/plain": [
       "{'numTasks': 12,\n",
       " 'numActiveTasks': 0,\n",
       " 'numCompleteTasks': 8,\n",
       " 'numFailedTasks': 0,\n",
       " 'numKilledTasks': 0,\n",
       " 'numCompletedIndices': 8,\n",
       " 'executorDeserializeTime': 1254,\n",
       " 'executorDeserializeCpuTime': 446474600,\n",
       " 'executorRunTime': 54900,\n",
       " 'executorCpuTime': 22626614900,\n",
       " 'resultSize': 36185,\n",
       " 'jvmGcTime': 2428,\n",
       " 'resultSerializationTime': 110,\n",
       " 'memoryBytesSpilled': 0,\n",
       " 'diskBytesSpilled': 0,\n",
       " 'peakExecutionMemory': 440400752,\n",
       " 'inputBytes': 84344235,\n",
       " 'inputRecords': 1179547,\n",
       " 'outputBytes': 50321941,\n",
       " 'outputRecords': 1456441,\n",
       " 'shuffleRemoteBlocksFetched': 0,\n",
       " 'shuffleLocalBlocksFetched': 16,\n",
       " 'shuffleFetchWaitTime': 0,\n",
       " 'shuffleRemoteBytesRead': 0,\n",
       " 'shuffleRemoteBytesReadToDisk': 0,\n",
       " 'shuffleLocalBytesRead': 63406957,\n",
       " 'shuffleReadBytes': 63406957,\n",
       " 'shuffleReadRecords': 1622698,\n",
       " 'shuffleWriteBytes': 63406957,\n",
       " 'shuffleWriteTime': 817119700,\n",
       " 'shuffleWriteRecords': 1622698}"
      ]
     },
     "execution_count": 34,
     "metadata": {},
     "output_type": "execute_result"
    }
   ],
   "source": [
    "subtract_metrics(after_df_metrics, before_df_metrics)"
   ]
  },
  {
   "cell_type": "markdown",
   "id": "f063b46c-579d-4775-ba3f-837708279ea2",
   "metadata": {},
   "source": [
    "## Część 3 - Pandas API on Spark"
   ]
  },
  {
   "cell_type": "code",
   "execution_count": 35,
   "id": "ab5e31a2-fd31-40ca-be7b-b20b13dc38a2",
   "metadata": {},
   "outputs": [
    {
     "name": "stdout",
     "output_type": "stream",
     "text": [
      "{\n",
      "  \"-\": 12048,\n",
      "  \"&\": 11714,\n",
      "  \"The\": 9329,\n",
      "  \"App\": 8068,\n",
      "  \"of\": 7933,\n",
      "  \"de\": 7396,\n",
      "  \"Technologies\": 7056,\n",
      "  \"Solutions\": 6880,\n",
      "  \"Software\": 6813,\n",
      "  \"Co.\": 6800,\n",
      "  \"Apps\": 6579,\n",
      "  \"Media\": 6462,\n",
      "  \"Digital\": 5836,\n",
      "  \"Pvt\": 5602,\n",
      "  \"Pvt.\": 5290,\n",
      "  \"Games\": 5044,\n",
      "  \"Technology\": 5009,\n",
      "  \"and\": 4989,\n",
      "  \"Mobile\": 4754,\n",
      "  \"Private\": 4196,\n",
      "  \"\": 3879,\n",
      "  \"Development\": 3868,\n",
      "  \"Group\": 3761,\n",
      "  \"IT\": 3665,\n",
      "  \"Services\": 3527,\n",
      "  \"Tech\": 3445,\n",
      "  \"Game\": 3333,\n",
      "  \"Bank\": 3127,\n",
      "  \"by\": 2831,\n",
      "  \"Systems\": 2778,\n",
      "  \"International\": 2580,\n",
      "  \"Global\": 2579,\n",
      "  \"Web\": 2563,\n",
      "  \"for\": 2536,\n",
      "  \"BH\": 2507,\n",
      "  \"Appswiz\": 2452,\n",
      "  \"Smart\": 2436,\n",
      "  \"Studio\": 2330,\n",
      "  \"Credit\": 2215,\n",
      "  \"Pty\": 2202,\n",
      "  \"Free\": 2186,\n",
      "  \"Business\": 1840,\n",
      "  \"Radio\": 1810,\n",
      "  \"New\": 1778,\n",
      "  \"Health\": 1710,\n",
      "  \"Company\": 1710,\n",
      "  \"Online\": 1629,\n",
      "  \"My\": 1539,\n",
      "  \"Church\": 1516,\n",
      "  \"Creative\": 1458\n",
      "}\n"
     ]
    }
   ],
   "source": [
    "import json\n",
    "\n",
    "# Odczytaj zawartość pliku JSON\n",
    "with open(ps_result_file, 'r') as file:\n",
    "    json_content = json.load(file)\n",
    "\n",
    "# Wyświetl zawartość\n",
    "print(json.dumps(json_content, indent=2))"
   ]
  },
  {
   "cell_type": "code",
   "execution_count": 36,
   "id": "32788c91-3f8e-4fb1-8afc-5eb00938e687",
   "metadata": {},
   "outputs": [
    {
     "data": {
      "text/plain": [
       "{'numTasks': 33,\n",
       " 'numActiveTasks': 0,\n",
       " 'numCompleteTasks': 25,\n",
       " 'numFailedTasks': 0,\n",
       " 'numKilledTasks': 0,\n",
       " 'numCompletedIndices': 25,\n",
       " 'executorDeserializeTime': 1838,\n",
       " 'executorDeserializeCpuTime': 440241100,\n",
       " 'executorRunTime': 166601,\n",
       " 'executorCpuTime': 55323279000,\n",
       " 'resultSize': 134363,\n",
       " 'jvmGcTime': 4753,\n",
       " 'resultSerializationTime': 123,\n",
       " 'memoryBytesSpilled': 0,\n",
       " 'diskBytesSpilled': 0,\n",
       " 'peakExecutionMemory': 427817888,\n",
       " 'inputBytes': 385819487,\n",
       " 'inputRecords': 5409845,\n",
       " 'outputBytes': 0,\n",
       " 'outputRecords': 0,\n",
       " 'shuffleRemoteBlocksFetched': 0,\n",
       " 'shuffleLocalBlocksFetched': 20,\n",
       " 'shuffleFetchWaitTime': 0,\n",
       " 'shuffleRemoteBytesRead': 0,\n",
       " 'shuffleRemoteBytesReadToDisk': 0,\n",
       " 'shuffleLocalBytesRead': 61239298,\n",
       " 'shuffleReadBytes': 61239298,\n",
       " 'shuffleReadRecords': 1573467,\n",
       " 'shuffleWriteBytes': 61239298,\n",
       " 'shuffleWriteTime': 1111152100,\n",
       " 'shuffleWriteRecords': 1573467}"
      ]
     },
     "execution_count": 36,
     "metadata": {},
     "output_type": "execute_result"
    }
   ],
   "source": [
    "subtract_metrics(after_ps_metrics, before_ps_metrics)"
   ]
  }
 ],
 "metadata": {
  "kernelspec": {
   "display_name": "Python 3 (ipykernel)",
   "language": "python",
   "name": "python3"
  },
  "language_info": {
   "codemirror_mode": {
    "name": "ipython",
    "version": 3
   },
   "file_extension": ".py",
   "mimetype": "text/x-python",
   "name": "python",
   "nbconvert_exporter": "python",
   "pygments_lexer": "ipython3",
   "version": "3.11.6"
  }
 },
 "nbformat": 4,
 "nbformat_minor": 5
}
